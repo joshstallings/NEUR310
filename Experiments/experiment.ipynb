{
 "cells": [
  {
   "cell_type": "code",
   "execution_count": 6,
   "id": "fb60e50d",
   "metadata": {},
   "outputs": [
    {
     "data": {
      "text/plain": [
       "GPTNeoBlock(\n",
       "  (ln_1): LayerNorm((64,), eps=1e-05, elementwise_affine=True)\n",
       "  (attn): GPTNeoAttention(\n",
       "    (attention): GPTNeoSelfAttention(\n",
       "      (attn_dropout): Dropout(p=0.0, inplace=False)\n",
       "      (resid_dropout): Dropout(p=0.0, inplace=False)\n",
       "      (k_proj): Linear(in_features=64, out_features=64, bias=False)\n",
       "      (v_proj): Linear(in_features=64, out_features=64, bias=False)\n",
       "      (q_proj): Linear(in_features=64, out_features=64, bias=False)\n",
       "      (out_proj): Linear(in_features=64, out_features=64, bias=True)\n",
       "    )\n",
       "  )\n",
       "  (ln_2): LayerNorm((64,), eps=1e-05, elementwise_affine=True)\n",
       "  (mlp): GPTNeoMLP(\n",
       "    (c_fc): Linear(in_features=64, out_features=256, bias=True)\n",
       "    (c_proj): Linear(in_features=256, out_features=64, bias=True)\n",
       "    (act): NewGELUActivation()\n",
       "    (dropout): Dropout(p=0.0, inplace=False)\n",
       "  )\n",
       ")"
      ]
     },
     "execution_count": 6,
     "metadata": {},
     "output_type": "execute_result"
    }
   ],
   "source": [
    "import os\n",
    "import torch\n",
    "import numpy as np\n",
    "import seaborn as sns\n",
    "import matplotlib.pyplot as plt\n",
    "from torch.nn.functional import softmax\n",
    "from transformers import AutoModelForCausalLM, AutoTokenizer, GenerationConfig\n",
    "from netrep.metrics import LinearMetric, GaussianStochasticMetric, EnergyStochasticMetric\n",
    "\n",
    "# My code. \n",
    "import generators\n",
    "\n",
    "PROMPT = \"Once upon a time\"\n",
    "TEMPERATURE = 1\n",
    "NUM_EXPERIMENTS = 5\n",
    "NUM_TOKENS = 20\n",
    "\n",
    "# Load in the model\n",
    "model_1m = AutoModelForCausalLM.from_pretrained('/Users/joshstallings/Desktop/LipshutzLab/TinyStories-1M')\n",
    "tokenizer = AutoTokenizer.from_pretrained(\"EleutherAI/gpt-neo-125M\")\n",
    "model_1m.eval()\n",
    "\n",
    "model_1m.transformer.h[-1]"
   ]
  },
  {
   "cell_type": "code",
   "execution_count": null,
   "id": "4f1f4846",
   "metadata": {},
   "outputs": [
    {
     "name": "stdout",
     "output_type": "stream",
     "text": [
      "torch.Size([23, 64])\n",
      "24\n",
      "torch.Size([23, 64])\n",
      "24\n",
      "torch.Size([23, 64])\n",
      "24\n",
      "torch.Size([23, 64])\n",
      "24\n",
      "torch.Size([23, 64])\n",
      "24\n"
     ]
    }
   ],
   "source": [
    "temperatures = np.linspace(0, 2, num=5)\n",
    "\n",
    "NUM_EXPERIMENTS = len(temperatures)\n",
    "# Entries are of shape [ activations, token_responses]\n",
    "# where activations and token_responses are of size 800\n",
    "trials = np.empty( (len(temperatures), len(PROMPT), 64) )\n",
    "\n",
    "for t in temperatures:\n",
    "    activation_responses, token_responses = generators.generate(model_1m, \"1m\", tokenizer, PROMPT, NUM_TOKENS, \n",
    "                                                                t, -1)\n",
    "\n",
    "# THIS IS TO HELP ME REMEMBER THE LAYOUT OF THIS MATRIX\n",
    "# print(len(activation_responses)) # Number of experiments\n",
    "# print(len(activation_responses[0])) # Number of tokens\n",
    "# print(len(activation_responses[0][0])) # == 2, something about the output\n",
    "# print(activation_responses[0][19][0].shape) # [1, <token>, 64]\n",
    "# print(activation_responses[0][0][1].shape) # [1, 16, 6, 6]\n",
    "\n",
    "for i in range(NUM_EXPERIMENTS):\n",
    "    print(activation_responses[i][-1][0][0][-1].shape) #\n",
    "    print(f\"{len(token_responses[i])}\")\n",
    "\n",
    "\n",
    "folder_name = \"ranging_temperature_across_k_seeds\"\n",
    "\n",
    "experiment_name = \"experiment0\"\n",
    "if(not os.path.isdir(folder_name)):\n",
    "    os.mkdir(f\"{folder_name}\")\n",
    "np.save(f\"{folder_name}{os.sep}{experiment_name}.npy\", trials)\n",
    "with open(f\"{folder_name}{os.sep}{experiment_name}.txt\", \"w\") as f:\n",
    "    for token_response in token_responses:\n",
    "        f.write(str(token_response)+\"\\n\")\n"
   ]
  },
  {
   "cell_type": "code",
   "execution_count": 5,
   "id": "40dc95d4",
   "metadata": {},
   "outputs": [
    {
     "name": "stdout",
     "output_type": "stream",
     "text": [
      "Once upon a time, there was a small boy named Timmy. He lived in a big, green field with many\n"
     ]
    }
   ],
   "source": [
    "for response in token_responses:\n",
    "    print(f\"{tokenizer.decode(response)}\")"
   ]
  },
  {
   "cell_type": "code",
   "execution_count": null,
   "id": "bcaaf495",
   "metadata": {},
   "outputs": [],
   "source": []
  },
  {
   "cell_type": "code",
   "execution_count": 25,
   "id": "1fe9e9e9",
   "metadata": {},
   "outputs": [
    {
     "name": "stderr",
     "output_type": "stream",
     "text": [
      "huggingface/tokenizers: The current process just got forked, after parallelism has already been used. Disabling parallelism to avoid deadlocks...\n",
      "To disable this warning, you can either:\n",
      "\t- Avoid using `tokenizers` before the fork if possible\n",
      "\t- Explicitly set the environment variable TOKENIZERS_PARALLELISM=(true | false)\n",
      "huggingface/tokenizers: The current process just got forked, after parallelism has already been used. Disabling parallelism to avoid deadlocks...\n",
      "To disable this warning, you can either:\n",
      "\t- Avoid using `tokenizers` before the fork if possible\n",
      "\t- Explicitly set the environment variable TOKENIZERS_PARALLELISM=(true | false)\n",
      "huggingface/tokenizers: The current process just got forked, after parallelism has already been used. Disabling parallelism to avoid deadlocks...\n",
      "To disable this warning, you can either:\n",
      "\t- Avoid using `tokenizers` before the fork if possible\n",
      "\t- Explicitly set the environment variable TOKENIZERS_PARALLELISM=(true | false)\n",
      "huggingface/tokenizers: The current process just got forked, after parallelism has already been used. Disabling parallelism to avoid deadlocks...\n",
      "To disable this warning, you can either:\n",
      "\t- Avoid using `tokenizers` before the fork if possible\n",
      "\t- Explicitly set the environment variable TOKENIZERS_PARALLELISM=(true | false)\n",
      "huggingface/tokenizers: The current process just got forked, after parallelism has already been used. Disabling parallelism to avoid deadlocks...\n",
      "To disable this warning, you can either:\n",
      "\t- Avoid using `tokenizers` before the fork if possible\n",
      "\t- Explicitly set the environment variable TOKENIZERS_PARALLELISM=(true | false)\n",
      "huggingface/tokenizers: The current process just got forked, after parallelism has already been used. Disabling parallelism to avoid deadlocks...\n",
      "To disable this warning, you can either:\n",
      "\t- Avoid using `tokenizers` before the fork if possible\n",
      "\t- Explicitly set the environment variable TOKENIZERS_PARALLELISM=(true | false)\n",
      "huggingface/tokenizers: The current process just got forked, after parallelism has already been used. Disabling parallelism to avoid deadlocks...\n",
      "To disable this warning, you can either:\n",
      "\t- Avoid using `tokenizers` before the fork if possible\n",
      "\t- Explicitly set the environment variable TOKENIZERS_PARALLELISM=(true | false)\n",
      "huggingface/tokenizers: The current process just got forked, after parallelism has already been used. Disabling parallelism to avoid deadlocks...\n",
      "To disable this warning, you can either:\n",
      "\t- Avoid using `tokenizers` before the fork if possible\n",
      "\t- Explicitly set the environment variable TOKENIZERS_PARALLELISM=(true | false)\n"
     ]
    },
    {
     "data": {
      "image/png": "[encoded data removed]",
      "text/plain": [
       "<Figure size 800x600 with 2 Axes>"
      ]
     },
     "metadata": {},
     "output_type": "display_data"
    }
   ],
   "source": [
    "# alpha = 0  => linearly invariant, like CCA\n",
    "# alpha = 1 => rotationally invariant, only rotational alignments. \n",
    "metric = LinearMetric(alpha=0.5)\n",
    "dist_matrix_1, _ = metric.pairwise_distances(tensors_3m[:30], verbose=False)\n",
    "# dist_matrix_2, _  = metric.pairwise_distances(tensor_2s)  # these aren't 2d arrays need to figure that out\n",
    "\n",
    "plt.figure(figsize=(8, 6)) # Adjust figure size as needed\n",
    "sns.heatmap(dist_matrix_1, cmap='viridis', annot=False, fmt=\".2f\", linewidths=.5)\n",
    "\n",
    "plt.title('Distance Matrix Heatmap')\n",
    "plt.xlabel('Run #')\n",
    "plt.ylabel('Run #')\n",
    "plt.show()\n"
   ]
  },
  {
   "cell_type": "code",
   "execution_count": 150,
   "id": "f5463508",
   "metadata": {},
   "outputs": [
    {
     "name": "stderr",
     "output_type": "stream",
     "text": [
      "huggingface/tokenizers: The current process just got forked, after parallelism has already been used. Disabling parallelism to avoid deadlocks...\n",
      "To disable this warning, you can either:\n",
      "\t- Avoid using `tokenizers` before the fork if possible\n",
      "\t- Explicitly set the environment variable TOKENIZERS_PARALLELISM=(true | false)\n",
      "huggingface/tokenizers: The current process just got forked, after parallelism has already been used. Disabling parallelism to avoid deadlocks...\n",
      "To disable this warning, you can either:\n",
      "\t- Avoid using `tokenizers` before the fork if possible\n",
      "\t- Explicitly set the environment variable TOKENIZERS_PARALLELISM=(true | false)\n",
      "huggingface/tokenizers: The current process just got forked, after parallelism has already been used. Disabling parallelism to avoid deadlocks...\n",
      "To disable this warning, you can either:\n",
      "\t- Avoid using `tokenizers` before the fork if possible\n",
      "\t- Explicitly set the environment variable TOKENIZERS_PARALLELISM=(true | false)\n",
      "huggingface/tokenizers: The current process just got forked, after parallelism has already been used. Disabling parallelism to avoid deadlocks...\n",
      "To disable this warning, you can either:\n",
      "\t- Avoid using `tokenizers` before the fork if possible\n",
      "\t- Explicitly set the environment variable TOKENIZERS_PARALLELISM=(true | false)\n",
      "huggingface/tokenizers: The current process just got forked, after parallelism has already been used. Disabling parallelism to avoid deadlocks...\n",
      "To disable this warning, you can either:\n",
      "\t- Avoid using `tokenizers` before the fork if possible\n",
      "\t- Explicitly set the environment variable TOKENIZERS_PARALLELISM=(true | false)\n",
      "huggingface/tokenizers: The current process just got forked, after parallelism has already been used. Disabling parallelism to avoid deadlocks...\n",
      "To disable this warning, you can either:\n",
      "\t- Avoid using `tokenizers` before the fork if possible\n",
      "\t- Explicitly set the environment variable TOKENIZERS_PARALLELISM=(true | false)\n",
      "huggingface/tokenizers: The current process just got forked, after parallelism has already been used. Disabling parallelism to avoid deadlocks...\n",
      "To disable this warning, you can either:\n",
      "\t- Avoid using `tokenizers` before the fork if possible\n",
      "\t- Explicitly set the environment variable TOKENIZERS_PARALLELISM=(true | false)\n",
      "huggingface/tokenizers: The current process just got forked, after parallelism has already been used. Disabling parallelism to avoid deadlocks...\n",
      "To disable this warning, you can either:\n",
      "\t- Avoid using `tokenizers` before the fork if possible\n",
      "\t- Explicitly set the environment variable TOKENIZERS_PARALLELISM=(true | false)\n"
     ]
    },
    {
     "ename": "KeyboardInterrupt",
     "evalue": "",
     "output_type": "error",
     "traceback": [
      "\u001b[31m---------------------------------------------------------------------------\u001b[39m",
      "\u001b[31mIndexError\u001b[39m                                Traceback (most recent call last)",
      "\u001b[36mFile \u001b[39m\u001b[32m/opt/anaconda3/envs/lipshutz/lib/python3.11/multiprocessing/pool.py:856\u001b[39m, in \u001b[36mIMapIterator.next\u001b[39m\u001b[34m(self, timeout)\u001b[39m\n\u001b[32m    855\u001b[39m \u001b[38;5;28;01mtry\u001b[39;00m:\n\u001b[32m--> \u001b[39m\u001b[32m856\u001b[39m     item = \u001b[38;5;28mself\u001b[39m._items.popleft()\n\u001b[32m    857\u001b[39m \u001b[38;5;28;01mexcept\u001b[39;00m \u001b[38;5;167;01mIndexError\u001b[39;00m:\n",
      "\u001b[31mIndexError\u001b[39m: pop from an empty deque",
      "\nDuring handling of the above exception, another exception occurred:\n",
      "\u001b[31mKeyboardInterrupt\u001b[39m                         Traceback (most recent call last)",
      "\u001b[36mCell\u001b[39m\u001b[36m \u001b[39m\u001b[32mIn[150]\u001b[39m\u001b[32m, line 2\u001b[39m\n\u001b[32m      1\u001b[39m metric = EnergyStochasticMetric()\n\u001b[32m----> \u001b[39m\u001b[32m2\u001b[39m dist_matrix_1, _ = \u001b[43mmetric\u001b[49m\u001b[43m.\u001b[49m\u001b[43mpairwise_distances\u001b[49m\u001b[43m(\u001b[49m\u001b[43mtensor_1s\u001b[49m\u001b[43m,\u001b[49m\u001b[43m \u001b[49m\u001b[43mverbose\u001b[49m\u001b[43m=\u001b[49m\u001b[38;5;28;43;01mFalse\u001b[39;49;00m\u001b[43m)\u001b[49m\n\u001b[32m      3\u001b[39m \u001b[38;5;66;03m# dist_matrix_2, _  = metric.pairwise_distances(tensor_2s)  # these aren't 2d arrays need to figure that out\u001b[39;00m\n\u001b[32m      5\u001b[39m plt.figure(figsize=(\u001b[32m8\u001b[39m, \u001b[32m6\u001b[39m)) \u001b[38;5;66;03m# Adjust figure size as needed\u001b[39;00m\n",
      "\u001b[36mFile \u001b[39m\u001b[32m~/Desktop/LipshutzLab/netrep/netrep/metrics/stochastic.py:503\u001b[39m, in \u001b[36mEnergyStochasticMetric.pairwise_distances\u001b[39m\u001b[34m(self, train_data, test_data, processes, verbose)\u001b[39m\n\u001b[32m    501\u001b[39m \u001b[38;5;28;01mwith\u001b[39;00m multiprocessing.Pool(processes=processes) \u001b[38;5;28;01mas\u001b[39;00m pool:\n\u001b[32m    502\u001b[39m     results = []\n\u001b[32m--> \u001b[39m\u001b[32m503\u001b[39m \u001b[43m    \u001b[49m\u001b[38;5;28;43;01mfor\u001b[39;49;00m\u001b[43m \u001b[49m\u001b[43mresult\u001b[49m\u001b[43m \u001b[49m\u001b[38;5;129;43;01min\u001b[39;49;00m\u001b[43m \u001b[49m\u001b[43mpbar\u001b[49m\u001b[43m(\u001b[49m\u001b[43mpool\u001b[49m\u001b[43m.\u001b[49m\u001b[43mimap_unordered\u001b[49m\u001b[43m(\u001b[49m\u001b[38;5;28;43mself\u001b[39;49m\u001b[43m.\u001b[49m\u001b[43m_compute_distance_star\u001b[49m\u001b[43m,\u001b[49m\u001b[43m \u001b[49m\u001b[43margs\u001b[49m\u001b[43m)\u001b[49m\u001b[43m)\u001b[49m\u001b[43m:\u001b[49m\n\u001b[32m    504\u001b[39m \u001b[43m        \u001b[49m\u001b[43mresults\u001b[49m\u001b[43m.\u001b[49m\u001b[43mappend\u001b[49m\u001b[43m(\u001b[49m\u001b[43mresult\u001b[49m\u001b[43m)\u001b[49m\n\u001b[32m    505\u001b[39m     pool.close()\n",
      "\u001b[36mFile \u001b[39m\u001b[32m/opt/anaconda3/envs/lipshutz/lib/python3.11/multiprocessing/pool.py:861\u001b[39m, in \u001b[36mIMapIterator.next\u001b[39m\u001b[34m(self, timeout)\u001b[39m\n\u001b[32m    859\u001b[39m     \u001b[38;5;28mself\u001b[39m._pool = \u001b[38;5;28;01mNone\u001b[39;00m\n\u001b[32m    860\u001b[39m     \u001b[38;5;28;01mraise\u001b[39;00m \u001b[38;5;167;01mStopIteration\u001b[39;00m \u001b[38;5;28;01mfrom\u001b[39;00m\u001b[38;5;250m \u001b[39m\u001b[38;5;28;01mNone\u001b[39;00m\n\u001b[32m--> \u001b[39m\u001b[32m861\u001b[39m \u001b[38;5;28;43mself\u001b[39;49m\u001b[43m.\u001b[49m\u001b[43m_cond\u001b[49m\u001b[43m.\u001b[49m\u001b[43mwait\u001b[49m\u001b[43m(\u001b[49m\u001b[43mtimeout\u001b[49m\u001b[43m)\u001b[49m\n\u001b[32m    862\u001b[39m \u001b[38;5;28;01mtry\u001b[39;00m:\n\u001b[32m    863\u001b[39m     item = \u001b[38;5;28mself\u001b[39m._items.popleft()\n",
      "\u001b[36mFile \u001b[39m\u001b[32m/opt/anaconda3/envs/lipshutz/lib/python3.11/threading.py:327\u001b[39m, in \u001b[36mCondition.wait\u001b[39m\u001b[34m(self, timeout)\u001b[39m\n\u001b[32m    325\u001b[39m \u001b[38;5;28;01mtry\u001b[39;00m:    \u001b[38;5;66;03m# restore state no matter what (e.g., KeyboardInterrupt)\u001b[39;00m\n\u001b[32m    326\u001b[39m     \u001b[38;5;28;01mif\u001b[39;00m timeout \u001b[38;5;129;01mis\u001b[39;00m \u001b[38;5;28;01mNone\u001b[39;00m:\n\u001b[32m--> \u001b[39m\u001b[32m327\u001b[39m         \u001b[43mwaiter\u001b[49m\u001b[43m.\u001b[49m\u001b[43macquire\u001b[49m\u001b[43m(\u001b[49m\u001b[43m)\u001b[49m\n\u001b[32m    328\u001b[39m         gotit = \u001b[38;5;28;01mTrue\u001b[39;00m\n\u001b[32m    329\u001b[39m     \u001b[38;5;28;01melse\u001b[39;00m:\n",
      "\u001b[31mKeyboardInterrupt\u001b[39m: "
     ]
    }
   ],
   "source": [
    "metric = EnergyStochasticMetric()\n",
    "dist_matrix_1, _ = metric.pairwise_distances(tensor_1s, verbose=False)\n",
    "# dist_matrix_2, _  = metric.pairwise_distances(tensor_2s)  # these aren't 2d arrays need to figure that out\n",
    "\n",
    "plt.figure(figsize=(8, 6)) # Adjust figure size as needed\n",
    "sns.heatmap(dist_matrix_1, cmap='viridis', annot=False, fmt=\".2f\", linewidths=.5)\n",
    "\n",
    "plt.title('Distance Matrix Heatmap')\n",
    "plt.xlabel('Run #')\n",
    "plt.ylabel('Run #')\n",
    "plt.show()"
   ]
  }
 ],
 "metadata": {
  "kernelspec": {
   "display_name": "lipshutz",
   "language": "python",
   "name": "python3"
  },
  "language_info": {
   "codemirror_mode": {
    "name": "ipython",
    "version": 3
   },
   "file_extension": ".py",
   "mimetype": "text/x-python",
   "name": "python",
   "nbconvert_exporter": "python",
   "pygments_lexer": "ipython3",
   "version": "3.11.13"
  }
 },
 "nbformat": 4,
 "nbformat_minor": 5
}

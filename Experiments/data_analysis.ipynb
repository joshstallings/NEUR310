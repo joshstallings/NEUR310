{
 "cells": [
  {
   "cell_type": "code",
   "execution_count": 111,
   "id": "fb60e50d",
   "metadata": {},
   "outputs": [
    {
     "data": {
      "text/plain": [
       "(4, 3, 200, 23, 64)"
      ]
     },
     "execution_count": 111,
     "metadata": {},
     "output_type": "execute_result"
    }
   ],
   "source": [
    "\n",
    "import numpy as np\n",
    "import seaborn as sns\n",
    "import matplotlib.pyplot as plt\n",
    "from torch.nn.functional import softmax\n",
    "import pandas as pd\n",
    "from scipy.spatial.distance import pdist, squareform\n",
    "\n",
    "from transformers import AutoModelForCausalLM, AutoTokenizer, GenerationConfig\n",
    "from netrep.metrics import LinearMetric, GaussianStochasticMetric\n",
    "\n",
    "# My code. \n",
    "import generators\n",
    "\n",
    "# The parameters I ran the experiment with. \n",
    "PROMPT = \"Once upon a time\"\n",
    "PROMPT_LENGTH = len(PROMPT.split(\" \"))\n",
    "SEEDS = [1, 2, 3]\n",
    "TEMPERATURES = [0, 0.5, 1.0, 2.0]\n",
    "NUM_EXPERIMENTS = 200\n",
    "NUM_TOKENS = 20\n",
    "\n",
    "\n",
    "\n",
    "# Of shape (Temperature, Seed, Num_Experiments, Num_Classes, 64)\n",
    "per_trial_data = np.load('ranging_temperature_across_k_seeds/experiment200N_per_trial_tensor.npy')\n",
    "per_trial_data.shape"
   ]
  },
  {
   "cell_type": "code",
   "execution_count": 148,
   "id": "6706277a",
   "metadata": {},
   "outputs": [
    {
     "name": "stdout",
     "output_type": "stream",
     "text": [
      "(4, 3, 23, 64)\n",
      "(12, 23, 64)\n"
     ]
    }
   ],
   "source": [
    "# Take the average over the number of experiments. \n",
    "mean_trajectories = np.mean(per_trial_data, 2)\n",
    "print(mean_trajectories.shape)\n",
    "\n",
    "# Then reshape the trajectories into (Variables, Time points, Neurons)\n",
    "reshaped = mean_trajectories.reshape(len(TEMPERATURES) * len(SEEDS), PROMPT_LENGTH + NUM_TOKENS - 1, 64)\n",
    "\n",
    "print(reshaped.shape)\n",
    "\n",
    "# Array of [ (Time points, Neurons), ... ]\n",
    "Xs = []\n",
    "for i in range(reshaped.shape[0]):\n",
    "    Xs.append(reshaped[i])\n"
   ]
  },
  {
   "cell_type": "code",
   "execution_count": 149,
   "id": "501963ed",
   "metadata": {},
   "outputs": [
    {
     "name": "stdout",
     "output_type": "stream",
     "text": [
      "Parallelizing 66 distance calculations with 8 processes.\n"
     ]
    },
    {
     "name": "stderr",
     "output_type": "stream",
     "text": [
      "Computing distances: 100%|██████████| 66/66 [00:01<00:00, 44.54it/s]"
     ]
    },
    {
     "name": "stdout",
     "output_type": "stream",
     "text": [
      "Parallelizing 66 distance calculations with 8 processes.\n"
     ]
    },
    {
     "name": "stderr",
     "output_type": "stream",
     "text": [
      "\n",
      "Computing distances: 100%|██████████| 66/66 [00:01<00:00, 55.50it/s]"
     ]
    },
    {
     "name": "stdout",
     "output_type": "stream",
     "text": [
      "Parallelizing 66 distance calculations with 8 processes.\n"
     ]
    },
    {
     "name": "stderr",
     "output_type": "stream",
     "text": [
      "\n",
      "Computing distances: 100%|██████████| 66/66 [00:01<00:00, 65.61it/s]\n"
     ]
    }
   ],
   "source": [
    "### LINEAR PROCRUSTES DISTANCE ###\n",
    "\n",
    "alphas = [0, 0.5, 1] # alphas to use for linear metric\n",
    "linear_distances = [] # array of distances\n",
    "\n",
    "for alpha in alphas:\n",
    "    metric = LinearMetric(alpha=alpha, score_method=\"euclidean\")\n",
    "    dist, _ = metric.pairwise_distances(Xs)\n",
    "    linear_distances.append(dist)\n"
   ]
  },
  {
   "cell_type": "markdown",
   "id": "d7255902",
   "metadata": {},
   "source": []
  },
  {
   "cell_type": "code",
   "execution_count": null,
   "id": "0699849a",
   "metadata": {},
   "outputs": [],
   "source": [
    "\n",
    "\n",
    "def cov3d(data):\n",
    "    '''\n",
    "    Calculates the covariance for a 3D array.\n",
    "    Iterates over L (some number of parameters or samples) and calculates the covariance.\n",
    "    '''\n",
    "    if(len(data.shape) != 3):\n",
    "        print(\"ERROR NOT 3D\")\n",
    "        return None\n",
    "\n",
    "    L, N, M = data.shape\n",
    "    covar_matrices = np.zeros((L, M, M))\n",
    "    for i in range(L):\n",
    "        covar_matrices[i] = np.cov(data[i, :, :], rowvar=False)\n",
    "    \n",
    "    return covar_matrices\n",
    "\n",
    "\n",
    "# I want to give it a shape 23, 12, 64 so I can get 23, 64, 64\n",
    "# because my mean_trajectories are shape\n",
    "\n",
    "Xz = [] # gaussian input\n",
    "\n",
    "test = per_trial_data.reshape(12, 23, 200, 64) # TODO: I don't know if this is right\n",
    "for i in range(12):\n",
    "    covar = cov3d(test[i])\n",
    "    Xz.append((Xs[i], covar))\n",
    "\n",
    "# Group with the means. \n",
    "\n",
    "# gaussian_distances = []\n",
    "metric = GaussianStochasticMetric(alpha=1, init='rand', n_restarts=50)\n",
    "dist, _ = metric.pairwise_distances(Xz)\n"
   ]
  },
  {
   "cell_type": "code",
   "execution_count": 103,
   "id": "e9a40722",
   "metadata": {},
   "outputs": [
    {
     "data": {
      "image/png": "[encoded data removed]",
      "text/plain": [
       "<Figure size 800x600 with 2 Axes>"
      ]
     },
     "metadata": {},
     "output_type": "display_data"
    }
   ],
   "source": [
    "plt.figure(figsize=(8, 6)) # Adjust figure size as needed\n",
    "sns.heatmap(linear_distances[0], cmap='viridis', annot=False, fmt=\".2f\", linewidths=.5)\n",
    "\n",
    "plt.title('Distance Matrix Heatmap')\n",
    "plt.show()"
   ]
  }
 ],
 "metadata": {
  "kernelspec": {
   "display_name": "lipshutz",
   "language": "python",
   "name": "python3"
  },
  "language_info": {
   "codemirror_mode": {
    "name": "ipython",
    "version": 3
   },
   "file_extension": ".py",
   "mimetype": "text/x-python",
   "name": "python",
   "nbconvert_exporter": "python",
   "pygments_lexer": "ipython3",
   "version": "3.11.13"
  }
 },
 "nbformat": 4,
 "nbformat_minor": 5
}

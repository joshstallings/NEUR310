{
 "cells": [
  {
   "cell_type": "code",
   "execution_count": null,
   "id": "fb60e50d",
   "metadata": {},
   "outputs": [
    {
     "name": "stderr",
     "output_type": "stream",
     "text": [
      "/opt/anaconda3/envs/lipshutz/lib/python3.11/site-packages/tqdm/auto.py:21: TqdmWarning: IProgress not found. Please update jupyter and ipywidgets. See https://ipywidgets.readthedocs.io/en/stable/user_install.html\n",
      "  from .autonotebook import tqdm as notebook_tqdm\n"
     ]
    }
   ],
   "source": [
    "import torch\n",
    "import numpy as np\n",
    "import seaborn as sns\n",
    "import matplotlib.pyplot as plt\n",
    "\n",
    "from transformers import AutoModelForCausalLM, AutoTokenizer, GenerationConfig\n",
    "from netrep.metrics import LinearMetric\n",
    "\n",
    "#TODO: increase the temperature value\n",
    "model = AutoModelForCausalLM.from_pretrained('/Users/joshstallings/Desktop/LipshutzLab/TinyStories-1M') \n",
    "tokenizer = AutoTokenizer.from_pretrained(\"EleutherAI/gpt-neo-125M\")\n",
    "model.eval()\n",
    "\n",
    "# Define the hook function\n",
    "def get_activation(name):\n",
    "    def hook(model, input, output):\n",
    "        # We save the output of the layer\n",
    "        saved_activations[name] = output\n",
    "    return hook\n"
   ]
  },
  {
   "cell_type": "code",
   "execution_count": 2,
   "id": "d6d11a41",
   "metadata": {},
   "outputs": [],
   "source": [
    "PROMPT = \"Once upon a time there was\"\n",
    "NUM_EXPERIMENTS = 10\n",
    "ACTIVATION_RESPONSES = []\n",
    "RESPONSES = []"
   ]
  },
  {
   "cell_type": "code",
   "execution_count": null,
   "id": "3779683e",
   "metadata": {},
   "outputs": [],
   "source": [
    "# Get the last layer of the model\n",
    "last_layer = model.transformer.h[-1]\n",
    "\n",
    "# Register hook function to the model's forward pass on the last layer\n",
    "last_layer.register_forward_hook(get_activation('last_layer_output'))\n",
    "\n",
    "# Custom Generation loop. \n",
    "# TODO: is there a more sophisticated way to write my own generation loops?\n",
    "# TODO: is this even a correct generation loop? \n",
    "for i in range(NUM_EXPERIMENTS):\n",
    "    # Tokenize the input. \n",
    "    input_ids = tokenizer(PROMPT, return_tensors=\"pt\").input_ids\n",
    "    current_ids = input_ids\n",
    "    saved_activations = {}\n",
    "    for _ in range(10): # Generate 10 new tokens\n",
    "        # Model forward pass. The hook will be triggered here.\n",
    "        with torch.no_grad():\n",
    "            outputs = model(current_ids)\n",
    "        \n",
    "        # Get the logits for the next token\n",
    "        # Logits are values before they are passed to the activation function.\n",
    "        logits = outputs.logits\n",
    "        next_token_logits = logits[:, -1, :]\n",
    "        \n",
    "        # Select the next token with greedy decoding\n",
    "        # TODO: randomly pick a token. \n",
    "        # softmax function\n",
    "        next_token_id = torch.argmax(next_token_logits, dim=-1).unsqueeze(-1)\n",
    "\n",
    "        # Append the new token to the sequence\n",
    "        current_ids = torch.cat([current_ids, next_token_id], dim=-1)\n",
    "        \n",
    "\n",
    "    # Process the responses. I want to be notified if something doesn't meet a certain shape. \n",
    "    activation_response = saved_activations['last_layer_output']\n",
    "    if(len(activation_response) != 2 and len(activation_response[0]) != 1):\n",
    "        print(f\"Unexpected shape in activation_response: ({len(activation_response)}, {len(activation_response[0])})\")\n",
    "        continue\n",
    "    elif(activation_response[0][0].shape != (15, 64) or activation_response[1][0].shape != (16, 15, 15)):\n",
    "        print(f\"Unexpected shape in tensor: {activation_response[0][0].shape}, {activation_response[1][0].shape}\")\n",
    "        continue\n",
    "    else:\n",
    "        ACTIVATION_RESPONSES.append(activation_response)\n",
    "        RESPONSES.append(current_ids[0])"
   ]
  },
  {
   "cell_type": "code",
   "execution_count": null,
   "id": "ab60abfe",
   "metadata": {},
   "outputs": [
    {
     "name": "stdout",
     "output_type": "stream",
     "text": [
      "10\n"
     ]
    }
   ],
   "source": [
    "# response tuple shape = (2, 1)\n",
    "# tensor shape = (15, 64) and (16, 15, 15)\n",
    "# some of them are already numpy arrays?\n",
    "tensor_1s = []\n",
    "tensor_2s = []\n",
    "print(len(ACTIVATION_RESPONSES))\n",
    "\n",
    "# Convert the responses to numpy arrays. \n",
    "for activation_response in ACTIVATION_RESPONSES:\n",
    "    tensor_1 = None\n",
    "    tensor_2 = None\n",
    "    try:\n",
    "        tensor_1 = activation_response[0][0].numpy()\n",
    "    except:\n",
    "        tensor_1 = activation_response[0][0].shape\n",
    "    try:\n",
    "        tensor_2 = activation_response[1][0].numpy()\n",
    "    except:\n",
    "        tensor_2 = activation_response[1][0].shape\n",
    "    \n",
    "    tensor_1s.append(tensor_1)\n",
    "    tensor_2s.append(tensor_2)\n"
   ]
  },
  {
   "cell_type": "code",
   "execution_count": 12,
   "id": "1fe9e9e9",
   "metadata": {},
   "outputs": [
    {
     "name": "stderr",
     "output_type": "stream",
     "text": [
      "huggingface/tokenizers: The current process just got forked, after parallelism has already been used. Disabling parallelism to avoid deadlocks...\n",
      "To disable this warning, you can either:\n",
      "\t- Avoid using `tokenizers` before the fork if possible\n",
      "\t- Explicitly set the environment variable TOKENIZERS_PARALLELISM=(true | false)\n",
      "huggingface/tokenizers: The current process just got forked, after parallelism has already been used. Disabling parallelism to avoid deadlocks...\n",
      "To disable this warning, you can either:\n",
      "\t- Avoid using `tokenizers` before the fork if possible\n",
      "\t- Explicitly set the environment variable TOKENIZERS_PARALLELISM=(true | false)\n",
      "huggingface/tokenizers: The current process just got forked, after parallelism has already been used. Disabling parallelism to avoid deadlocks...\n",
      "To disable this warning, you can either:\n",
      "\t- Avoid using `tokenizers` before the fork if possible\n",
      "\t- Explicitly set the environment variable TOKENIZERS_PARALLELISM=(true | false)\n",
      "huggingface/tokenizers: The current process just got forked, after parallelism has already been used. Disabling parallelism to avoid deadlocks...\n",
      "To disable this warning, you can either:\n",
      "\t- Avoid using `tokenizers` before the fork if possible\n",
      "\t- Explicitly set the environment variable TOKENIZERS_PARALLELISM=(true | false)\n",
      "huggingface/tokenizers: The current process just got forked, after parallelism has already been used. Disabling parallelism to avoid deadlocks...\n",
      "To disable this warning, you can either:\n",
      "\t- Avoid using `tokenizers` before the fork if possible\n",
      "\t- Explicitly set the environment variable TOKENIZERS_PARALLELISM=(true | false)\n",
      "huggingface/tokenizers: The current process just got forked, after parallelism has already been used. Disabling parallelism to avoid deadlocks...\n",
      "To disable this warning, you can either:\n",
      "\t- Avoid using `tokenizers` before the fork if possible\n",
      "\t- Explicitly set the environment variable TOKENIZERS_PARALLELISM=(true | false)\n",
      "huggingface/tokenizers: The current process just got forked, after parallelism has already been used. Disabling parallelism to avoid deadlocks...\n",
      "To disable this warning, you can either:\n",
      "\t- Avoid using `tokenizers` before the fork if possible\n",
      "\t- Explicitly set the environment variable TOKENIZERS_PARALLELISM=(true | false)\n",
      "huggingface/tokenizers: The current process just got forked, after parallelism has already been used. Disabling parallelism to avoid deadlocks...\n",
      "To disable this warning, you can either:\n",
      "\t- Avoid using `tokenizers` before the fork if possible\n",
      "\t- Explicitly set the environment variable TOKENIZERS_PARALLELISM=(true | false)\n"
     ]
    }
   ],
   "source": [
    "# alpha = 0  => linearly invariant, like CCA\n",
    "# alpha = 1 => rotationally invariant, only rotational alignments. \n",
    "metric = LinearMetric(alpha=1)\n",
    "dist_matrix_1, _ = metric.pairwise_distances(tensor_1s, verbose=False)\n",
    "# dist_matrix_2, _  = metric.pairwise_distances(tensor_2s)  # these aren't 2d arrays need to figure that out\n"
   ]
  },
  {
   "cell_type": "code",
   "execution_count": 14,
   "id": "f5463508",
   "metadata": {},
   "outputs": [
    {
     "data": {
      "image/png": "[encoded data removed]",
      "text/plain": [
       "<Figure size 800x600 with 2 Axes>"
      ]
     },
     "metadata": {},
     "output_type": "display_data"
    },
    {
     "name": "stdout",
     "output_type": "stream",
     "text": [
      "Once upon a time there was a little girl named Lily. She loved to play\n",
      "Once upon a time there was a little girl named Lily. She loved to play\n",
      "Once upon a time there was a little girl named Lily. She loved to play\n",
      "Once upon a time there was a little girl named Lily. She loved to play\n",
      "Once upon a time there was a little girl named Lily. She loved to play\n",
      "Once upon a time there was a little girl named Lily. She loved to play\n",
      "Once upon a time there was a little girl named Lily. She loved to play\n",
      "Once upon a time there was a little girl named Lily. She loved to play\n",
      "Once upon a time there was a little girl named Lily. She loved to play\n",
      "Once upon a time there was a little girl named Lily. She loved to play\n",
      "[[0.0000000e+00 9.0640225e-08 9.0640225e-08 9.0640225e-08 9.0640225e-08\n",
      "  9.0640225e-08 9.0640225e-08 9.0640225e-08 9.0640225e-08 9.0640225e-08]\n",
      " [9.0640225e-08 0.0000000e+00 9.0640225e-08 9.0640225e-08 9.0640225e-08\n",
      "  9.0640225e-08 9.0640225e-08 9.0640225e-08 9.0640225e-08 9.0640225e-08]\n",
      " [9.0640225e-08 9.0640225e-08 0.0000000e+00 9.0640225e-08 9.0640225e-08\n",
      "  9.0640225e-08 9.0640225e-08 9.0640225e-08 9.0640225e-08 9.0640225e-08]\n",
      " [9.0640225e-08 9.0640225e-08 9.0640225e-08 0.0000000e+00 9.0640225e-08\n",
      "  9.0640225e-08 9.0640225e-08 9.0640225e-08 9.0640225e-08 9.0640225e-08]\n",
      " [9.0640225e-08 9.0640225e-08 9.0640225e-08 9.0640225e-08 0.0000000e+00\n",
      "  9.0640225e-08 9.0640225e-08 9.0640225e-08 9.0640225e-08 9.0640225e-08]\n",
      " [9.0640225e-08 9.0640225e-08 9.0640225e-08 9.0640225e-08 9.0640225e-08\n",
      "  0.0000000e+00 9.0640225e-08 9.0640225e-08 9.0640225e-08 9.0640225e-08]\n",
      " [9.0640225e-08 9.0640225e-08 9.0640225e-08 9.0640225e-08 9.0640225e-08\n",
      "  9.0640225e-08 0.0000000e+00 9.0640225e-08 9.0640225e-08 9.0640225e-08]\n",
      " [9.0640225e-08 9.0640225e-08 9.0640225e-08 9.0640225e-08 9.0640225e-08\n",
      "  9.0640225e-08 9.0640225e-08 0.0000000e+00 9.0640225e-08 9.0640225e-08]\n",
      " [9.0640225e-08 9.0640225e-08 9.0640225e-08 9.0640225e-08 9.0640225e-08\n",
      "  9.0640225e-08 9.0640225e-08 9.0640225e-08 0.0000000e+00 9.0640225e-08]\n",
      " [9.0640225e-08 9.0640225e-08 9.0640225e-08 9.0640225e-08 9.0640225e-08\n",
      "  9.0640225e-08 9.0640225e-08 9.0640225e-08 9.0640225e-08 0.0000000e+00]]\n"
     ]
    }
   ],
   "source": [
    "plt.figure(figsize=(8, 6)) # Adjust figure size as needed\n",
    "sns.heatmap(dist_matrix_1, cmap='viridis', annot=False, fmt=\".2f\", linewidths=.5)\n",
    "\n",
    "plt.title('Distance Matrix Heatmap')\n",
    "plt.xlabel('Run #')\n",
    "plt.ylabel('Run #')\n",
    "plt.show()\n",
    "\n",
    "for response in RESPONSES:\n",
    "    print(tokenizer.decode(response))\n",
    "\n",
    "print(dist_matrix_1)"
   ]
  }
 ],
 "metadata": {
  "kernelspec": {
   "display_name": "lipshutz",
   "language": "python",
   "name": "python3"
  },
  "language_info": {
   "codemirror_mode": {
    "name": "ipython",
    "version": 3
   },
   "file_extension": ".py",
   "mimetype": "text/x-python",
   "name": "python",
   "nbconvert_exporter": "python",
   "pygments_lexer": "ipython3",
   "version": "3.11.13"
  }
 },
 "nbformat": 4,
 "nbformat_minor": 5
}
